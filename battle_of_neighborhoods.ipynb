{
 "nbformat": 4,
 "nbformat_minor": 2,
 "metadata": {
  "language_info": {
   "name": "python",
   "codemirror_mode": {
    "name": "ipython",
    "version": 3
   },
   "version": "3.7.6-final"
  },
  "orig_nbformat": 2,
  "file_extension": ".py",
  "mimetype": "text/x-python",
  "name": "python",
  "npconvert_exporter": "python",
  "pygments_lexer": "ipython3",
  "version": 3,
  "kernelspec": {
   "name": "python37664bitbaseconda7305c3675c4443bf97c00b3c1727c452",
   "display_name": "Python 3.7.6 64-bit ('base': conda)"
  }
 },
 "cells": [
  {
   "cell_type": "code",
   "execution_count": 2,
   "metadata": {},
   "outputs": [],
   "source": [
    "import pandas as pd\n",
    "import numpy as np\n",
    "import requests"
   ]
  },
  {
   "cell_type": "code",
   "execution_count": 154,
   "metadata": {},
   "outputs": [],
   "source": [
    "CLIENT_ID = 'ND0AF0KVLBEM341PVLKK314M0XKG1CLGTTN42BCT2KJLGQT2' # your Foursquare ID\n",
    "CLIENT_SECRET = 'FILOMWFFVSVZ2RE4DQQAUXTKT5P2RWQBEGAMYVB4NRPKUON3' # your Foursquare Secret\n",
    "VERSION = '20180605' # Foursquare API version"
   ]
  },
  {
   "cell_type": "code",
   "execution_count": 181,
   "metadata": {},
   "outputs": [],
   "source": [
    "def getVenues(city, categoryId, radius=1000, limit=50, sortByPopularity=1, query=\"bar\"):\n",
    "\n",
    "    # create the API request URL\n",
    "    url = f\"https://api.foursquare.com/v2/venues/explore?&client_id={CLIENT_ID}&client_secret={CLIENT_SECRET}&v={VERSION}&near={city}&radius={radius}&limit={limit}&             categoryId{section}&sortByPopularity{sortByPopularity}&query={query}\"\n",
    "\n",
    "    # make the GET request\n",
    "    results = requests.get(url).json()['response']['groups'][0]['items']\n",
    "    venues=pd.DataFrame(columns=['popularity_ranking', 'name', 'category'])\n",
    "\n",
    "    for i, item in enumerate(results):\n",
    "        venues.loc[i, 'popularity_ranking'] = i+1\n",
    "        venues.loc[i, 'name'] = item['venue']['name']\n",
    "        venues.loc[i, 'category'] = item['venue']['categories'][0]['name']\n",
    "    return venues, results"
   ]
  },
  {
   "cell_type": "code",
   "execution_count": 182,
   "metadata": {},
   "outputs": [],
   "source": [
    "df, results = getVenues(\"Amsterdam\", \"56aa371be4b08b9a8d5734db\")"
   ]
  },
  {
   "cell_type": "code",
   "execution_count": 134,
   "metadata": {},
   "outputs": [
    {
     "output_type": "execute_result",
     "data": {
      "text/plain": "   popularity_ranking                                  name  \\\n0                   1                         De Bierkoning   \n1                   2                   Kaagman & Kortekaas   \n2                   3         Proeflokaal De Drie Fleschjes   \n3                   4                           W Amsterdam   \n4                   5                      Caffè Il Momento   \n5                   6                       Tales & Spirits   \n6                   7                           Hummingbird   \n7                   8        Melly's Espresso - Cookies Bar   \n8                   9                Proeflokaal Arendsnest   \n9                  10                                  Prik   \n10                 11                            Greenwoods   \n11                 12                            The Hoxton   \n12                 13                             Scheltema   \n13                 14                            BeerTemple   \n14                 15                                   Dam   \n15                 16                        The Gamekeeper   \n16                 17                        Hotel Estherea   \n17                 18                               Hotel V   \n18                 19                        Wynand Fockink   \n19                 20        Bierproeflokaal In de Wildeman   \n20                 21                        Black and Blue   \n21                 22                             The Lobby   \n22                 23                            Cut Throat   \n23                 24  Ashoka Restaurant -Amsterdam Centrum   \n24                 25    Sofitel Legend The Grand Amsterdam   \n25                 26                           Café Gollem   \n26                 27                       P.G.C. Hajenius   \n27                 28                        Hotel Pulitzer   \n28                 29                                Jansz.   \n29                 30                           9 Straatjes   \n\n              category  \n0           Beer Store  \n1    French Restaurant  \n2                  Bar  \n3                Hotel  \n4                 Café  \n5         Cocktail Bar  \n6          Coffee Shop  \n7         Dessert Shop  \n8             Beer Bar  \n9              Gay Bar  \n10                Café  \n11               Hotel  \n12           Bookstore  \n13            Beer Bar  \n14               Plaza  \n15    Toy / Game Store  \n16               Hotel  \n17               Hotel  \n18        Liquor Store  \n19                 Bar  \n20          Steakhouse  \n21          Restaurant  \n22  Salon / Barbershop  \n23   Indian Restaurant  \n24               Hotel  \n25                 Pub  \n26          Smoke Shop  \n27               Hotel  \n28   French Restaurant  \n29       Shopping Mall  ",
      "text/html": "<div>\n<style scoped>\n    .dataframe tbody tr th:only-of-type {\n        vertical-align: middle;\n    }\n\n    .dataframe tbody tr th {\n        vertical-align: top;\n    }\n\n    .dataframe thead th {\n        text-align: right;\n    }\n</style>\n<table border=\"1\" class=\"dataframe\">\n  <thead>\n    <tr style=\"text-align: right;\">\n      <th></th>\n      <th>popularity_ranking</th>\n      <th>name</th>\n      <th>category</th>\n    </tr>\n  </thead>\n  <tbody>\n    <tr>\n      <th>0</th>\n      <td>1</td>\n      <td>De Bierkoning</td>\n      <td>Beer Store</td>\n    </tr>\n    <tr>\n      <th>1</th>\n      <td>2</td>\n      <td>Kaagman &amp; Kortekaas</td>\n      <td>French Restaurant</td>\n    </tr>\n    <tr>\n      <th>2</th>\n      <td>3</td>\n      <td>Proeflokaal De Drie Fleschjes</td>\n      <td>Bar</td>\n    </tr>\n    <tr>\n      <th>3</th>\n      <td>4</td>\n      <td>W Amsterdam</td>\n      <td>Hotel</td>\n    </tr>\n    <tr>\n      <th>4</th>\n      <td>5</td>\n      <td>Caffè Il Momento</td>\n      <td>Café</td>\n    </tr>\n    <tr>\n      <th>5</th>\n      <td>6</td>\n      <td>Tales &amp; Spirits</td>\n      <td>Cocktail Bar</td>\n    </tr>\n    <tr>\n      <th>6</th>\n      <td>7</td>\n      <td>Hummingbird</td>\n      <td>Coffee Shop</td>\n    </tr>\n    <tr>\n      <th>7</th>\n      <td>8</td>\n      <td>Melly's Espresso - Cookies Bar</td>\n      <td>Dessert Shop</td>\n    </tr>\n    <tr>\n      <th>8</th>\n      <td>9</td>\n      <td>Proeflokaal Arendsnest</td>\n      <td>Beer Bar</td>\n    </tr>\n    <tr>\n      <th>9</th>\n      <td>10</td>\n      <td>Prik</td>\n      <td>Gay Bar</td>\n    </tr>\n    <tr>\n      <th>10</th>\n      <td>11</td>\n      <td>Greenwoods</td>\n      <td>Café</td>\n    </tr>\n    <tr>\n      <th>11</th>\n      <td>12</td>\n      <td>The Hoxton</td>\n      <td>Hotel</td>\n    </tr>\n    <tr>\n      <th>12</th>\n      <td>13</td>\n      <td>Scheltema</td>\n      <td>Bookstore</td>\n    </tr>\n    <tr>\n      <th>13</th>\n      <td>14</td>\n      <td>BeerTemple</td>\n      <td>Beer Bar</td>\n    </tr>\n    <tr>\n      <th>14</th>\n      <td>15</td>\n      <td>Dam</td>\n      <td>Plaza</td>\n    </tr>\n    <tr>\n      <th>15</th>\n      <td>16</td>\n      <td>The Gamekeeper</td>\n      <td>Toy / Game Store</td>\n    </tr>\n    <tr>\n      <th>16</th>\n      <td>17</td>\n      <td>Hotel Estherea</td>\n      <td>Hotel</td>\n    </tr>\n    <tr>\n      <th>17</th>\n      <td>18</td>\n      <td>Hotel V</td>\n      <td>Hotel</td>\n    </tr>\n    <tr>\n      <th>18</th>\n      <td>19</td>\n      <td>Wynand Fockink</td>\n      <td>Liquor Store</td>\n    </tr>\n    <tr>\n      <th>19</th>\n      <td>20</td>\n      <td>Bierproeflokaal In de Wildeman</td>\n      <td>Bar</td>\n    </tr>\n    <tr>\n      <th>20</th>\n      <td>21</td>\n      <td>Black and Blue</td>\n      <td>Steakhouse</td>\n    </tr>\n    <tr>\n      <th>21</th>\n      <td>22</td>\n      <td>The Lobby</td>\n      <td>Restaurant</td>\n    </tr>\n    <tr>\n      <th>22</th>\n      <td>23</td>\n      <td>Cut Throat</td>\n      <td>Salon / Barbershop</td>\n    </tr>\n    <tr>\n      <th>23</th>\n      <td>24</td>\n      <td>Ashoka Restaurant -Amsterdam Centrum</td>\n      <td>Indian Restaurant</td>\n    </tr>\n    <tr>\n      <th>24</th>\n      <td>25</td>\n      <td>Sofitel Legend The Grand Amsterdam</td>\n      <td>Hotel</td>\n    </tr>\n    <tr>\n      <th>25</th>\n      <td>26</td>\n      <td>Café Gollem</td>\n      <td>Pub</td>\n    </tr>\n    <tr>\n      <th>26</th>\n      <td>27</td>\n      <td>P.G.C. Hajenius</td>\n      <td>Smoke Shop</td>\n    </tr>\n    <tr>\n      <th>27</th>\n      <td>28</td>\n      <td>Hotel Pulitzer</td>\n      <td>Hotel</td>\n    </tr>\n    <tr>\n      <th>28</th>\n      <td>29</td>\n      <td>Jansz.</td>\n      <td>French Restaurant</td>\n    </tr>\n    <tr>\n      <th>29</th>\n      <td>30</td>\n      <td>9 Straatjes</td>\n      <td>Shopping Mall</td>\n    </tr>\n  </tbody>\n</table>\n</div>"
     },
     "metadata": {},
     "execution_count": 134
    }
   ],
   "source": [
    "city = \"Amsterdam\"\n",
    "radius=2000\n",
    "limit=50\n",
    "categoryId=\"4bf58dd8d48988d116941735\" # Id of the food category\n",
    "sortByPopularity=1\n",
    "\n",
    "# create the API request URL\n",
    "url = f\"https://api.foursquare.com/v2/venues/explore?&client_id={CLIENT_ID}&client_secret={CLIENT_SECRET}&v={VERSION}&near={city}&radius={radius}&             catetgoryId{categoryId}\"\n",
    "\n",
    "# make the GET request\n",
    "results = requests.get(url).json()['response']['groups'][0]['items']\n",
    "venues=pd.DataFrame(columns=['popularity_ranking', 'name', 'category'])\n",
    "\n",
    "for i, item in enumerate(results):\n",
    "    venues.loc[i, 'popularity_ranking'] = i+1\n",
    "    venues.loc[i, 'name'] = item['venue']['name']\n",
    "    venues.loc[i, 'category'] = item['venue']['categories'][0]['name']\n",
    "venues"
   ]
  },
  {
   "cell_type": "code",
   "execution_count": 183,
   "metadata": {},
   "outputs": [
    {
     "output_type": "execute_result",
     "data": {
      "text/plain": "   popularity_ranking                               name      category\n0                   1                      Café Belgique           Bar\n1                   2     Bierproeflokaal In de Wildeman           Bar\n2                   3                          Bar Jones           Bar\n3                   4                     Café 't Smalle           Bar\n4                   5                       Café Brandon           Bar\n5                   6      Proeflokaal De Drie Fleschjes           Bar\n6                   7                         Café Chris           Bar\n7                   8                              Hoppe           Bar\n8                   9                   Café 't Spui-tje           Bar\n9                  10                    Tales & Spirits  Cocktail Bar\n10                 11                         BeerTemple      Beer Bar\n11                 12                    De Nieuwe Lelie           Bar\n12                 13                       Café De Tuin           Bar\n13                 14                      De Koningshut           Bar\n14                 15                           Café P96           Bar\n15                 16        Cuddle Pub (Cuddle EetCafe)           Bar\n16                 17                          De Klepel           Bar\n17                 18                               Prik           Bar\n18                 19                   In de Olofspoort           Bar\n19                 20                         Vesper Bar           Bar\n20                 21                        Café Gollem           Bar\n21                 22                      Café Thijssen           Bar\n22                 23            Irish Pub Amsterdam Dam           Bar\n23                 24                          Café DIEP           Bar\n24                 25              Eetcafé Festina Lente           Bar\n25                 26                      Café Hegeraad           Bar\n26                 27                        Café Oporto           Bar\n27                 28                     Café The Minds           Bar\n28                 29                        Café Kobalt           Bar\n29                 30  Belgisch Bierproeflokaal De Zotte           Bar\n30                 31                  De Engelbewaarder           Bar\n31                 32                           Old Town           Bar\n32                 33                         Bloemenbar           Bar\n33                 34                     The Old Church           Bar\n34                 35                   Cafe 't Molentje           Bar\n35                 36                Café 't Papeneiland           Bar\n36                 37                  De Gouden Florijn           Bar\n37                 38                          Excalibur           Bar\n38                 39                      Café De Prins           Bar\n39                 40              Proeflokaal 't Kelkje           Bar\n40                 41                   De Blaffende Vis           Bar\n41                 42                         Café Tabac           Bar\n42                 43                   The Bulldog Mack           Bar\n43                 44                      't Monumentje           Bar\n44                 45                Rosalia's Menagerie  Cocktail Bar\n45                 46                       Café Fonteyn           Bar\n46                 47                        Café De Dam           Bar\n47                 48                           De Burgh           Bar\n48                 49                       Bar Oldenhof  Cocktail Bar\n49                 50                          Bar Parry           Bar",
      "text/html": "<div>\n<style scoped>\n    .dataframe tbody tr th:only-of-type {\n        vertical-align: middle;\n    }\n\n    .dataframe tbody tr th {\n        vertical-align: top;\n    }\n\n    .dataframe thead th {\n        text-align: right;\n    }\n</style>\n<table border=\"1\" class=\"dataframe\">\n  <thead>\n    <tr style=\"text-align: right;\">\n      <th></th>\n      <th>popularity_ranking</th>\n      <th>name</th>\n      <th>category</th>\n    </tr>\n  </thead>\n  <tbody>\n    <tr>\n      <th>0</th>\n      <td>1</td>\n      <td>Café Belgique</td>\n      <td>Bar</td>\n    </tr>\n    <tr>\n      <th>1</th>\n      <td>2</td>\n      <td>Bierproeflokaal In de Wildeman</td>\n      <td>Bar</td>\n    </tr>\n    <tr>\n      <th>2</th>\n      <td>3</td>\n      <td>Bar Jones</td>\n      <td>Bar</td>\n    </tr>\n    <tr>\n      <th>3</th>\n      <td>4</td>\n      <td>Café 't Smalle</td>\n      <td>Bar</td>\n    </tr>\n    <tr>\n      <th>4</th>\n      <td>5</td>\n      <td>Café Brandon</td>\n      <td>Bar</td>\n    </tr>\n    <tr>\n      <th>5</th>\n      <td>6</td>\n      <td>Proeflokaal De Drie Fleschjes</td>\n      <td>Bar</td>\n    </tr>\n    <tr>\n      <th>6</th>\n      <td>7</td>\n      <td>Café Chris</td>\n      <td>Bar</td>\n    </tr>\n    <tr>\n      <th>7</th>\n      <td>8</td>\n      <td>Hoppe</td>\n      <td>Bar</td>\n    </tr>\n    <tr>\n      <th>8</th>\n      <td>9</td>\n      <td>Café 't Spui-tje</td>\n      <td>Bar</td>\n    </tr>\n    <tr>\n      <th>9</th>\n      <td>10</td>\n      <td>Tales &amp; Spirits</td>\n      <td>Cocktail Bar</td>\n    </tr>\n    <tr>\n      <th>10</th>\n      <td>11</td>\n      <td>BeerTemple</td>\n      <td>Beer Bar</td>\n    </tr>\n    <tr>\n      <th>11</th>\n      <td>12</td>\n      <td>De Nieuwe Lelie</td>\n      <td>Bar</td>\n    </tr>\n    <tr>\n      <th>12</th>\n      <td>13</td>\n      <td>Café De Tuin</td>\n      <td>Bar</td>\n    </tr>\n    <tr>\n      <th>13</th>\n      <td>14</td>\n      <td>De Koningshut</td>\n      <td>Bar</td>\n    </tr>\n    <tr>\n      <th>14</th>\n      <td>15</td>\n      <td>Café P96</td>\n      <td>Bar</td>\n    </tr>\n    <tr>\n      <th>15</th>\n      <td>16</td>\n      <td>Cuddle Pub (Cuddle EetCafe)</td>\n      <td>Bar</td>\n    </tr>\n    <tr>\n      <th>16</th>\n      <td>17</td>\n      <td>De Klepel</td>\n      <td>Bar</td>\n    </tr>\n    <tr>\n      <th>17</th>\n      <td>18</td>\n      <td>Prik</td>\n      <td>Bar</td>\n    </tr>\n    <tr>\n      <th>18</th>\n      <td>19</td>\n      <td>In de Olofspoort</td>\n      <td>Bar</td>\n    </tr>\n    <tr>\n      <th>19</th>\n      <td>20</td>\n      <td>Vesper Bar</td>\n      <td>Bar</td>\n    </tr>\n    <tr>\n      <th>20</th>\n      <td>21</td>\n      <td>Café Gollem</td>\n      <td>Bar</td>\n    </tr>\n    <tr>\n      <th>21</th>\n      <td>22</td>\n      <td>Café Thijssen</td>\n      <td>Bar</td>\n    </tr>\n    <tr>\n      <th>22</th>\n      <td>23</td>\n      <td>Irish Pub Amsterdam Dam</td>\n      <td>Bar</td>\n    </tr>\n    <tr>\n      <th>23</th>\n      <td>24</td>\n      <td>Café DIEP</td>\n      <td>Bar</td>\n    </tr>\n    <tr>\n      <th>24</th>\n      <td>25</td>\n      <td>Eetcafé Festina Lente</td>\n      <td>Bar</td>\n    </tr>\n    <tr>\n      <th>25</th>\n      <td>26</td>\n      <td>Café Hegeraad</td>\n      <td>Bar</td>\n    </tr>\n    <tr>\n      <th>26</th>\n      <td>27</td>\n      <td>Café Oporto</td>\n      <td>Bar</td>\n    </tr>\n    <tr>\n      <th>27</th>\n      <td>28</td>\n      <td>Café The Minds</td>\n      <td>Bar</td>\n    </tr>\n    <tr>\n      <th>28</th>\n      <td>29</td>\n      <td>Café Kobalt</td>\n      <td>Bar</td>\n    </tr>\n    <tr>\n      <th>29</th>\n      <td>30</td>\n      <td>Belgisch Bierproeflokaal De Zotte</td>\n      <td>Bar</td>\n    </tr>\n    <tr>\n      <th>30</th>\n      <td>31</td>\n      <td>De Engelbewaarder</td>\n      <td>Bar</td>\n    </tr>\n    <tr>\n      <th>31</th>\n      <td>32</td>\n      <td>Old Town</td>\n      <td>Bar</td>\n    </tr>\n    <tr>\n      <th>32</th>\n      <td>33</td>\n      <td>Bloemenbar</td>\n      <td>Bar</td>\n    </tr>\n    <tr>\n      <th>33</th>\n      <td>34</td>\n      <td>The Old Church</td>\n      <td>Bar</td>\n    </tr>\n    <tr>\n      <th>34</th>\n      <td>35</td>\n      <td>Cafe 't Molentje</td>\n      <td>Bar</td>\n    </tr>\n    <tr>\n      <th>35</th>\n      <td>36</td>\n      <td>Café 't Papeneiland</td>\n      <td>Bar</td>\n    </tr>\n    <tr>\n      <th>36</th>\n      <td>37</td>\n      <td>De Gouden Florijn</td>\n      <td>Bar</td>\n    </tr>\n    <tr>\n      <th>37</th>\n      <td>38</td>\n      <td>Excalibur</td>\n      <td>Bar</td>\n    </tr>\n    <tr>\n      <th>38</th>\n      <td>39</td>\n      <td>Café De Prins</td>\n      <td>Bar</td>\n    </tr>\n    <tr>\n      <th>39</th>\n      <td>40</td>\n      <td>Proeflokaal 't Kelkje</td>\n      <td>Bar</td>\n    </tr>\n    <tr>\n      <th>40</th>\n      <td>41</td>\n      <td>De Blaffende Vis</td>\n      <td>Bar</td>\n    </tr>\n    <tr>\n      <th>41</th>\n      <td>42</td>\n      <td>Café Tabac</td>\n      <td>Bar</td>\n    </tr>\n    <tr>\n      <th>42</th>\n      <td>43</td>\n      <td>The Bulldog Mack</td>\n      <td>Bar</td>\n    </tr>\n    <tr>\n      <th>43</th>\n      <td>44</td>\n      <td>'t Monumentje</td>\n      <td>Bar</td>\n    </tr>\n    <tr>\n      <th>44</th>\n      <td>45</td>\n      <td>Rosalia's Menagerie</td>\n      <td>Cocktail Bar</td>\n    </tr>\n    <tr>\n      <th>45</th>\n      <td>46</td>\n      <td>Café Fonteyn</td>\n      <td>Bar</td>\n    </tr>\n    <tr>\n      <th>46</th>\n      <td>47</td>\n      <td>Café De Dam</td>\n      <td>Bar</td>\n    </tr>\n    <tr>\n      <th>47</th>\n      <td>48</td>\n      <td>De Burgh</td>\n      <td>Bar</td>\n    </tr>\n    <tr>\n      <th>48</th>\n      <td>49</td>\n      <td>Bar Oldenhof</td>\n      <td>Cocktail Bar</td>\n    </tr>\n    <tr>\n      <th>49</th>\n      <td>50</td>\n      <td>Bar Parry</td>\n      <td>Bar</td>\n    </tr>\n  </tbody>\n</table>\n</div>"
     },
     "metadata": {},
     "execution_count": 183
    }
   ],
   "source": [
    "df"
   ]
  },
  {
   "cell_type": "code",
   "execution_count": null,
   "metadata": {},
   "outputs": [],
   "source": []
  }
 ]
}